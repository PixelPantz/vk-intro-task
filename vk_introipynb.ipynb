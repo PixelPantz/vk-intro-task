{
  "nbformat": 4,
  "nbformat_minor": 0,
  "metadata": {
    "colab": {
      "provenance": [],
      "authorship_tag": "ABX9TyNpp2UHcP+BLWKNahzwx6Qc",
      "include_colab_link": true
    },
    "kernelspec": {
      "name": "python3",
      "display_name": "Python 3"
    },
    "language_info": {
      "name": "python"
    }
  },
  "cells": [
    {
      "cell_type": "markdown",
      "metadata": {
        "id": "view-in-github",
        "colab_type": "text"
      },
      "source": [
        "<a href=\"https://colab.research.google.com/github/PixelPantz/vk-intro-task/blob/main/vk_introipynb.ipynb\" target=\"_parent\"><img src=\"https://colab.research.google.com/assets/colab-badge.svg\" alt=\"Open In Colab\"/></a>"
      ]
    },
    {
      "cell_type": "code",
      "execution_count": null,
      "metadata": {
        "id": "-WGx2LFYBZmH"
      },
      "outputs": [],
      "source": [
        "from sklearn.model_selection import train_test_split\n",
        "from sklearn.ensemble import GradientBoostingClassifier\n",
        "from sklearn.preprocessing import StandardScaler\n",
        "import pandas as pd\n",
        "from sklearn.metrics import ndcg_score\n",
        "\n",
        "train_data = pd.read_csv('train_df.csv')\n",
        "test_data = pd.read_csv('test_df.csv')\n",
        "\n",
        "X_train = train_data.drop(columns=['search_id', 'target'])\n",
        "y_train = train_data['target']\n",
        "\n",
        "X_test = test_data.drop(columns=['search_id', 'target'])\n",
        "y_test = test_data['target']\n",
        "\n",
        "scaler = StandardScaler()\n",
        "X_train_scaled = scaler.fit_transform(X_train)\n",
        "X_test_scaled = scaler.transform(X_test)\n",
        "\n",
        "model = GradientBoostingClassifier()\n",
        "model.fit(X_train_scaled, y_train)\n",
        "\n",
        "\n",
        "probabilities = model.predict_proba(X_test_scaled)[:, 1]\n",
        "\n",
        "ndcg = ndcg_score([y_test], [probabilities])\n",
        "print(f'NDCG Score: {ndcg}')"
      ]
    },
    {
      "cell_type": "code",
      "source": [
        "import joblib\n",
        "\n",
        "joblib.dump(model, 'model.pkl')\n",
        "joblib.dump(scaler, \"scaler.pkl\")"
      ],
      "metadata": {
        "id": "8gBUJJQKEdGH"
      },
      "execution_count": null,
      "outputs": []
    }
  ]
}